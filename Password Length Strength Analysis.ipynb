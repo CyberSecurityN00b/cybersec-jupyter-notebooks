{
 "cells": [
  {
   "cell_type": "markdown",
   "id": "61b961f8",
   "metadata": {},
   "source": [
    "# 1. Password Dump Strength Analysis\n",
    "\n",
    "Password dumps and associated wordlists are not uncommon in the cyber security world. While these wordlists, such as the popular `rockyou.txt`, are often used in training/lab environments to crack hashes or brute force logins for budding cyber analysts and penetration testers, they also serve malicious actors as well.\n",
    "\n",
    "The purpose of this data analysis is to evaluate the strength of passwords in a password dump, how easily they may have been cracked without the dump, and what standards of password strength should be employed to stay ahead of the pack when it comes to password strength.\n",
    "\n",
    "To get started, we will import a wordlist of passwords. The rest of this notebook will take a \"wordlist agnostic\" approach to writing; specifically, we will avoid making callouts on data in the markdown sections, letting graphs and the like do the heavy lifting for us."
   ]
  },
  {
   "cell_type": "code",
   "execution_count": 1,
   "id": "c3913643",
   "metadata": {},
   "outputs": [
    {
     "name": "stdout",
     "output_type": "stream",
     "text": [
      "Loaded 14343856 unique passwords.\n"
     ]
    }
   ],
   "source": [
    "import pandas as pd\n",
    "\n",
    "wordlist = \"/wordlists/rockyou.txt\"\n",
    "\n",
    "with open(wordlist,\"r\", errors=\"ignore\") as f:\n",
    "    df = pd.DataFrame((line.rstrip() for line in f), columns=['Password'])\n",
    "    \n",
    "df = df.drop_duplicates()\n",
    "df = df.dropna()\n",
    "print(\"Loaded \" + str(len(df)) + \" unique passwords.\")"
   ]
  },
  {
   "cell_type": "markdown",
   "id": "822dd003",
   "metadata": {},
   "source": [
    "# 2. Basic Analysis and Categorization\n",
    "\n",
    "Since we're starting with only a list of passwords, we don't have much to work with at the start. To effectively analyze these passwords, we need to conduct some basic analysis and categorization of the passwords.\n",
    "\n",
    "For starters, we are interested in the following:\n",
    "  - The length of the password.\n",
    "  - The number of alpha characters in the password.\n",
    "  - The number of numeric characters in the password.\n",
    "  - The number of non-alphanumeric characters in the password."
   ]
  },
  {
   "cell_type": "code",
   "execution_count": 2,
   "id": "5f709dc9",
   "metadata": {},
   "outputs": [
    {
     "data": {
      "text/html": [
       "<div>\n",
       "<style scoped>\n",
       "    .dataframe tbody tr th:only-of-type {\n",
       "        vertical-align: middle;\n",
       "    }\n",
       "\n",
       "    .dataframe tbody tr th {\n",
       "        vertical-align: top;\n",
       "    }\n",
       "\n",
       "    .dataframe thead th {\n",
       "        text-align: right;\n",
       "    }\n",
       "</style>\n",
       "<table border=\"1\" class=\"dataframe\">\n",
       "  <thead>\n",
       "    <tr style=\"text-align: right;\">\n",
       "      <th></th>\n",
       "      <th>Length</th>\n",
       "      <th>Alpha Count</th>\n",
       "      <th>Number Count</th>\n",
       "      <th>Special Count</th>\n",
       "    </tr>\n",
       "  </thead>\n",
       "  <tbody>\n",
       "    <tr>\n",
       "      <th>count</th>\n",
       "      <td>14343855.00</td>\n",
       "      <td>14343855.00</td>\n",
       "      <td>14343855.00</td>\n",
       "      <td>14343855.00</td>\n",
       "    </tr>\n",
       "    <tr>\n",
       "      <th>mean</th>\n",
       "      <td>8.75</td>\n",
       "      <td>5.72</td>\n",
       "      <td>2.92</td>\n",
       "      <td>0.11</td>\n",
       "    </tr>\n",
       "    <tr>\n",
       "      <th>std</th>\n",
       "      <td>2.90</td>\n",
       "      <td>3.86</td>\n",
       "      <td>3.15</td>\n",
       "      <td>0.65</td>\n",
       "    </tr>\n",
       "    <tr>\n",
       "      <th>min</th>\n",
       "      <td>1.00</td>\n",
       "      <td>0.00</td>\n",
       "      <td>0.00</td>\n",
       "      <td>0.00</td>\n",
       "    </tr>\n",
       "    <tr>\n",
       "      <th>25%</th>\n",
       "      <td>7.00</td>\n",
       "      <td>3.00</td>\n",
       "      <td>0.00</td>\n",
       "      <td>0.00</td>\n",
       "    </tr>\n",
       "    <tr>\n",
       "      <th>50%</th>\n",
       "      <td>8.00</td>\n",
       "      <td>6.00</td>\n",
       "      <td>2.00</td>\n",
       "      <td>0.00</td>\n",
       "    </tr>\n",
       "    <tr>\n",
       "      <th>75%</th>\n",
       "      <td>10.00</td>\n",
       "      <td>8.00</td>\n",
       "      <td>4.00</td>\n",
       "      <td>0.00</td>\n",
       "    </tr>\n",
       "    <tr>\n",
       "      <th>max</th>\n",
       "      <td>285.00</td>\n",
       "      <td>255.00</td>\n",
       "      <td>255.00</td>\n",
       "      <td>255.00</td>\n",
       "    </tr>\n",
       "  </tbody>\n",
       "</table>\n",
       "</div>"
      ],
      "text/plain": [
       "            Length  Alpha Count Number Count Special Count\n",
       "count  14343855.00  14343855.00  14343855.00   14343855.00\n",
       "mean          8.75         5.72         2.92          0.11\n",
       "std           2.90         3.86         3.15          0.65\n",
       "min           1.00         0.00         0.00          0.00\n",
       "25%           7.00         3.00         0.00          0.00\n",
       "50%           8.00         6.00         2.00          0.00\n",
       "75%          10.00         8.00         4.00          0.00\n",
       "max         285.00       255.00       255.00        255.00"
      ]
     },
     "execution_count": 2,
     "metadata": {},
     "output_type": "execute_result"
    }
   ],
   "source": [
    "df['Length'] = df['Password'].agg(len)\n",
    "df = df.drop(df[df['Length']==0].index)\n",
    "\n",
    "df['Alpha Count'] = df['Password'].str.count(r'[a-zA-Z]')\n",
    "df['Number Count'] = df['Password'].str.count(r'[0-9]')\n",
    "df['Special Count'] = df['Length'] - df['Alpha Count'] - df['Number Count']\n",
    "\n",
    "df.describe().apply(lambda s: s.apply('{0:.2f}'.format))"
   ]
  },
  {
   "cell_type": "markdown",
   "id": "88bb3597",
   "metadata": {},
   "source": [
    "The table above gives us some pretty good insight already, especially the row showing the values for the Length/Counts that are equal to or exceed those of 75% of the passwords in our word list. This 75% row in particular will help us set standards for our passwords to keep them \"ahead of the game\" in a later section, after some more analysis.\n",
    "\n",
    "We can take things a step further by categorizing passwords as one of the following:\n",
    "\n",
    "  - Alpha\n",
    "  - AlphaNumeric\n",
    "  - AlphaNumericSpecial\n",
    "  - AlphaSpecial\n",
    "  - Numeric\n",
    "  - NumericSpecial\n",
    "  - Special\n",
    "  \n",
    "Of the above, the 'AlphaNumericSpecial' category is the \"most secure\" in terms of what characters are used in the passwords, whereas \"Numeric\" is least secure due to the fewest. These levels of security are more generic attributes as they are indepedent of the length of the password."
   ]
  },
  {
   "cell_type": "code",
   "execution_count": 3,
   "id": "98b58d96",
   "metadata": {},
   "outputs": [
    {
     "data": {
      "text/plain": [
       "AlphaNumeric           6864624\n",
       "Alpha                  4115504\n",
       "Numeric                2346774\n",
       "AlphaNumericSpecial     507191\n",
       "AlphaSpecial            457465\n",
       "NumericSpecial           46542\n",
       "Special                   5755\n",
       "Name: Category, dtype: int64"
      ]
     },
     "execution_count": 3,
     "metadata": {},
     "output_type": "execute_result"
    }
   ],
   "source": [
    "df['Category'] = df['Alpha Count'].apply(lambda x: 'Alpha' * (x > 0))\n",
    "df['Category'] = df['Category'] + df['Number Count'].apply(lambda x: 'Numeric' * (x > 0))\n",
    "df['Category'] = df['Category'] + df['Special Count'].apply(lambda x: 'Special' * (x > 0))\n",
    "\n",
    "df = df.sort_values('Category')\n",
    "df['Category'].value_counts()"
   ]
  },
  {
   "cell_type": "markdown",
   "id": "20569d95",
   "metadata": {},
   "source": [
    "# 3. Length-Based Analysis\n",
    "\n",
    "Instead of attempting character-based frequency analysis, we are going to look at the overall number of character types (alpha, numeric, special) and visualize their values in the various categories. For the purposes of this analysis, we are not concerned with outliers."
   ]
  },
  {
   "cell_type": "code",
   "execution_count": 4,
   "id": "0bbaf362",
   "metadata": {},
   "outputs": [
    {
     "data": {
      "image/png": "[encoded data removed]",
      "text/plain": [
       "<Figure size 360x360 with 1 Axes>"
      ]
     },
     "metadata": {
      "needs_background": "light"
     },
     "output_type": "display_data"
    }
   ],
   "source": [
    "import matplotlib.pyplot as plt\n",
    "import seaborn as sns\n",
    "\n",
    "sns.catplot(x='Category', data=df, kind=\"count\")\n",
    "plt.xticks(rotation='vertical')\n",
    "plt.show()"
   ]
  },
  {
   "cell_type": "code",
   "execution_count": 5,
   "id": "1488d196",
   "metadata": {},
   "outputs": [
    {
     "data": {
      "image/png": "[encoded data removed]",
      "text/plain": [
       "<Figure size 432x288 with 1 Axes>"
      ]
     },
     "metadata": {
      "needs_background": "light"
     },
     "output_type": "display_data"
    }
   ],
   "source": [
    "ax = sns.boxplot(x='Category', y='Length', data=df, showfliers=False)\n",
    "ax.set_title(\"Overall Length of Passwords by Categorization\")\n",
    "plt.xticks(rotation='vertical')\n",
    "plt.show()"
   ]
  },
  {
   "cell_type": "code",
   "execution_count": 6,
   "id": "f786d91b",
   "metadata": {},
   "outputs": [
    {
     "data": {
      "image/png": "[encoded data removed]",
      "text/plain": [
       "<Figure size 432x288 with 1 Axes>"
      ]
     },
     "metadata": {
      "needs_background": "light"
     },
     "output_type": "display_data"
    }
   ],
   "source": [
    "ax = sns.boxplot(x='Category', y='Alpha Count', data=df, showfliers=False)\n",
    "ax.set_title(\"Number of Alpha Characters in Passwords by Categorization\")\n",
    "plt.xticks(rotation='vertical')\n",
    "plt.show()"
   ]
  },
  {
   "cell_type": "code",
   "execution_count": 7,
   "id": "49040062",
   "metadata": {},
   "outputs": [
    {
     "data": {
      "image/png": "[encoded data removed]",
      "text/plain": [
       "<Figure size 432x288 with 1 Axes>"
      ]
     },
     "metadata": {
      "needs_background": "light"
     },
     "output_type": "display_data"
    }
   ],
   "source": [
    "ax = sns.boxplot(x='Category', y='Number Count', data=df, showfliers=False)\n",
    "ax.set_title(\"Number of Numeric Characters in Passwords by Categorization\")\n",
    "plt.xticks(rotation='vertical')\n",
    "plt.show()"
   ]
  },
  {
   "cell_type": "code",
   "execution_count": 8,
   "id": "b5241ccb",
   "metadata": {},
   "outputs": [
    {
     "data": {
      "image/png": "[encoded data removed]",
      "text/plain": [
       "<Figure size 432x288 with 1 Axes>"
      ]
     },
     "metadata": {
      "needs_background": "light"
     },
     "output_type": "display_data"
    }
   ],
   "source": [
    "ax = sns.boxplot(x='Category', y='Special Count', data=df, showfliers=False)\n",
    "ax.set_title(\"Number of Special Characters in Passwords by Categorization\")\n",
    "plt.xticks(rotation='vertical')\n",
    "plt.show()"
   ]
  },
  {
   "cell_type": "markdown",
   "id": "a3c18270",
   "metadata": {},
   "source": [
    "# 4. Exceeding Common Password Strengths Based on Quantiles\n",
    "\n",
    "Since malicious threat actors may use this same information to tailor their password cracking attempts, we want to increase our own password strengths to avoid these attempts. To effectively do so, we should ideally use passwords that would be categorized as AlphaNumericSpecial, but there may be situations where one of the less secure categorizations are required of us.\n",
    "\n",
    "Taking a categorization-agnostic approach, it stands to reason that having a password with character counts that exceed 90%, 95%, or even 99% of the character counts relative to those in the password wordlist gives our own password an advantage over the \"common\" password strengths.\n",
    "\n",
    "Before getting into category-based quantiles, we will look at the overall quantiles in 5% increments:"
   ]
  },
  {
   "cell_type": "code",
   "execution_count": 9,
   "id": "0b1a1fea",
   "metadata": {},
   "outputs": [
    {
     "data": {
      "text/html": [
       "<div>\n",
       "<style scoped>\n",
       "    .dataframe tbody tr th:only-of-type {\n",
       "        vertical-align: middle;\n",
       "    }\n",
       "\n",
       "    .dataframe tbody tr th {\n",
       "        vertical-align: top;\n",
       "    }\n",
       "\n",
       "    .dataframe thead th {\n",
       "        text-align: right;\n",
       "    }\n",
       "</style>\n",
       "<table border=\"1\" class=\"dataframe\">\n",
       "  <thead>\n",
       "    <tr style=\"text-align: right;\">\n",
       "      <th></th>\n",
       "      <th>Length</th>\n",
       "      <th>Alpha Count</th>\n",
       "      <th>Number Count</th>\n",
       "      <th>Special Count</th>\n",
       "    </tr>\n",
       "  </thead>\n",
       "  <tbody>\n",
       "    <tr>\n",
       "      <th>0.05</th>\n",
       "      <td>6.0</td>\n",
       "      <td>0.0</td>\n",
       "      <td>0.0</td>\n",
       "      <td>0.0</td>\n",
       "    </tr>\n",
       "    <tr>\n",
       "      <th>0.10</th>\n",
       "      <td>6.0</td>\n",
       "      <td>0.0</td>\n",
       "      <td>0.0</td>\n",
       "      <td>0.0</td>\n",
       "    </tr>\n",
       "    <tr>\n",
       "      <th>0.15</th>\n",
       "      <td>6.0</td>\n",
       "      <td>0.0</td>\n",
       "      <td>0.0</td>\n",
       "      <td>0.0</td>\n",
       "    </tr>\n",
       "    <tr>\n",
       "      <th>0.20</th>\n",
       "      <td>7.0</td>\n",
       "      <td>2.0</td>\n",
       "      <td>0.0</td>\n",
       "      <td>0.0</td>\n",
       "    </tr>\n",
       "    <tr>\n",
       "      <th>0.25</th>\n",
       "      <td>7.0</td>\n",
       "      <td>3.0</td>\n",
       "      <td>0.0</td>\n",
       "      <td>0.0</td>\n",
       "    </tr>\n",
       "    <tr>\n",
       "      <th>0.30</th>\n",
       "      <td>7.0</td>\n",
       "      <td>4.0</td>\n",
       "      <td>0.0</td>\n",
       "      <td>0.0</td>\n",
       "    </tr>\n",
       "    <tr>\n",
       "      <th>0.35</th>\n",
       "      <td>8.0</td>\n",
       "      <td>5.0</td>\n",
       "      <td>1.0</td>\n",
       "      <td>0.0</td>\n",
       "    </tr>\n",
       "    <tr>\n",
       "      <th>0.40</th>\n",
       "      <td>8.0</td>\n",
       "      <td>5.0</td>\n",
       "      <td>1.0</td>\n",
       "      <td>0.0</td>\n",
       "    </tr>\n",
       "    <tr>\n",
       "      <th>0.45</th>\n",
       "      <td>8.0</td>\n",
       "      <td>6.0</td>\n",
       "      <td>2.0</td>\n",
       "      <td>0.0</td>\n",
       "    </tr>\n",
       "    <tr>\n",
       "      <th>0.50</th>\n",
       "      <td>8.0</td>\n",
       "      <td>6.0</td>\n",
       "      <td>2.0</td>\n",
       "      <td>0.0</td>\n",
       "    </tr>\n",
       "    <tr>\n",
       "      <th>0.55</th>\n",
       "      <td>9.0</td>\n",
       "      <td>6.0</td>\n",
       "      <td>2.0</td>\n",
       "      <td>0.0</td>\n",
       "    </tr>\n",
       "    <tr>\n",
       "      <th>0.60</th>\n",
       "      <td>9.0</td>\n",
       "      <td>7.0</td>\n",
       "      <td>3.0</td>\n",
       "      <td>0.0</td>\n",
       "    </tr>\n",
       "    <tr>\n",
       "      <th>0.65</th>\n",
       "      <td>9.0</td>\n",
       "      <td>7.0</td>\n",
       "      <td>3.0</td>\n",
       "      <td>0.0</td>\n",
       "    </tr>\n",
       "    <tr>\n",
       "      <th>0.70</th>\n",
       "      <td>10.0</td>\n",
       "      <td>8.0</td>\n",
       "      <td>4.0</td>\n",
       "      <td>0.0</td>\n",
       "    </tr>\n",
       "    <tr>\n",
       "      <th>0.75</th>\n",
       "      <td>10.0</td>\n",
       "      <td>8.0</td>\n",
       "      <td>4.0</td>\n",
       "      <td>0.0</td>\n",
       "    </tr>\n",
       "    <tr>\n",
       "      <th>0.80</th>\n",
       "      <td>10.0</td>\n",
       "      <td>9.0</td>\n",
       "      <td>6.0</td>\n",
       "      <td>0.0</td>\n",
       "    </tr>\n",
       "    <tr>\n",
       "      <th>0.85</th>\n",
       "      <td>11.0</td>\n",
       "      <td>9.0</td>\n",
       "      <td>7.0</td>\n",
       "      <td>0.0</td>\n",
       "    </tr>\n",
       "    <tr>\n",
       "      <th>0.90</th>\n",
       "      <td>12.0</td>\n",
       "      <td>10.0</td>\n",
       "      <td>8.0</td>\n",
       "      <td>0.0</td>\n",
       "    </tr>\n",
       "    <tr>\n",
       "      <th>0.95</th>\n",
       "      <td>13.0</td>\n",
       "      <td>12.0</td>\n",
       "      <td>10.0</td>\n",
       "      <td>1.0</td>\n",
       "    </tr>\n",
       "    <tr>\n",
       "      <th>0.99</th>\n",
       "      <td>16.0</td>\n",
       "      <td>15.0</td>\n",
       "      <td>11.0</td>\n",
       "      <td>2.0</td>\n",
       "    </tr>\n",
       "  </tbody>\n",
       "</table>\n",
       "</div>"
      ],
      "text/plain": [
       "      Length  Alpha Count  Number Count  Special Count\n",
       "0.05     6.0          0.0           0.0            0.0\n",
       "0.10     6.0          0.0           0.0            0.0\n",
       "0.15     6.0          0.0           0.0            0.0\n",
       "0.20     7.0          2.0           0.0            0.0\n",
       "0.25     7.0          3.0           0.0            0.0\n",
       "0.30     7.0          4.0           0.0            0.0\n",
       "0.35     8.0          5.0           1.0            0.0\n",
       "0.40     8.0          5.0           1.0            0.0\n",
       "0.45     8.0          6.0           2.0            0.0\n",
       "0.50     8.0          6.0           2.0            0.0\n",
       "0.55     9.0          6.0           2.0            0.0\n",
       "0.60     9.0          7.0           3.0            0.0\n",
       "0.65     9.0          7.0           3.0            0.0\n",
       "0.70    10.0          8.0           4.0            0.0\n",
       "0.75    10.0          8.0           4.0            0.0\n",
       "0.80    10.0          9.0           6.0            0.0\n",
       "0.85    11.0          9.0           7.0            0.0\n",
       "0.90    12.0         10.0           8.0            0.0\n",
       "0.95    13.0         12.0          10.0            1.0\n",
       "0.99    16.0         15.0          11.0            2.0"
      ]
     },
     "execution_count": 9,
     "metadata": {},
     "output_type": "execute_result"
    }
   ],
   "source": [
    "df.quantile([.05,.10,.15,.20,.25,.30,.35,.40,.45,.50,.55,.60,.65,.70,.75,.80,.85,.90,.95,.99])"
   ]
  },
  {
   "cell_type": "markdown",
   "id": "f90b8290",
   "metadata": {},
   "source": [
    "## 4.1 Alpha Categorized Passwords"
   ]
  },
  {
   "cell_type": "code",
   "execution_count": 10,
   "id": "09f678d0",
   "metadata": {},
   "outputs": [
    {
     "data": {
      "text/html": [
       "<div>\n",
       "<style scoped>\n",
       "    .dataframe tbody tr th:only-of-type {\n",
       "        vertical-align: middle;\n",
       "    }\n",
       "\n",
       "    .dataframe tbody tr th {\n",
       "        vertical-align: top;\n",
       "    }\n",
       "\n",
       "    .dataframe thead th {\n",
       "        text-align: right;\n",
       "    }\n",
       "</style>\n",
       "<table border=\"1\" class=\"dataframe\">\n",
       "  <thead>\n",
       "    <tr style=\"text-align: right;\">\n",
       "      <th></th>\n",
       "      <th>Length</th>\n",
       "      <th>Alpha Count</th>\n",
       "      <th>Number Count</th>\n",
       "      <th>Special Count</th>\n",
       "    </tr>\n",
       "  </thead>\n",
       "  <tbody>\n",
       "    <tr>\n",
       "      <th>0.90</th>\n",
       "      <td>12.0</td>\n",
       "      <td>12.0</td>\n",
       "      <td>0.0</td>\n",
       "      <td>0.0</td>\n",
       "    </tr>\n",
       "    <tr>\n",
       "      <th>0.95</th>\n",
       "      <td>14.0</td>\n",
       "      <td>14.0</td>\n",
       "      <td>0.0</td>\n",
       "      <td>0.0</td>\n",
       "    </tr>\n",
       "    <tr>\n",
       "      <th>0.99</th>\n",
       "      <td>16.0</td>\n",
       "      <td>16.0</td>\n",
       "      <td>0.0</td>\n",
       "      <td>0.0</td>\n",
       "    </tr>\n",
       "  </tbody>\n",
       "</table>\n",
       "</div>"
      ],
      "text/plain": [
       "      Length  Alpha Count  Number Count  Special Count\n",
       "0.90    12.0         12.0           0.0            0.0\n",
       "0.95    14.0         14.0           0.0            0.0\n",
       "0.99    16.0         16.0           0.0            0.0"
      ]
     },
     "execution_count": 10,
     "metadata": {},
     "output_type": "execute_result"
    }
   ],
   "source": [
    "df[df['Category']==\"Alpha\"].quantile([.9,.95,.99])"
   ]
  },
  {
   "cell_type": "markdown",
   "id": "2f03106d",
   "metadata": {},
   "source": [
    "## 4.2 AlphaNumeric Categorized Passwords"
   ]
  },
  {
   "cell_type": "code",
   "execution_count": 11,
   "id": "c9365a04",
   "metadata": {},
   "outputs": [
    {
     "data": {
      "text/html": [
       "<div>\n",
       "<style scoped>\n",
       "    .dataframe tbody tr th:only-of-type {\n",
       "        vertical-align: middle;\n",
       "    }\n",
       "\n",
       "    .dataframe tbody tr th {\n",
       "        vertical-align: top;\n",
       "    }\n",
       "\n",
       "    .dataframe thead th {\n",
       "        text-align: right;\n",
       "    }\n",
       "</style>\n",
       "<table border=\"1\" class=\"dataframe\">\n",
       "  <thead>\n",
       "    <tr style=\"text-align: right;\">\n",
       "      <th></th>\n",
       "      <th>Length</th>\n",
       "      <th>Alpha Count</th>\n",
       "      <th>Number Count</th>\n",
       "      <th>Special Count</th>\n",
       "    </tr>\n",
       "  </thead>\n",
       "  <tbody>\n",
       "    <tr>\n",
       "      <th>0.90</th>\n",
       "      <td>11.0</td>\n",
       "      <td>9.0</td>\n",
       "      <td>6.0</td>\n",
       "      <td>0.0</td>\n",
       "    </tr>\n",
       "    <tr>\n",
       "      <th>0.95</th>\n",
       "      <td>13.0</td>\n",
       "      <td>10.0</td>\n",
       "      <td>6.0</td>\n",
       "      <td>0.0</td>\n",
       "    </tr>\n",
       "    <tr>\n",
       "      <th>0.99</th>\n",
       "      <td>16.0</td>\n",
       "      <td>12.0</td>\n",
       "      <td>9.0</td>\n",
       "      <td>0.0</td>\n",
       "    </tr>\n",
       "  </tbody>\n",
       "</table>\n",
       "</div>"
      ],
      "text/plain": [
       "      Length  Alpha Count  Number Count  Special Count\n",
       "0.90    11.0          9.0           6.0            0.0\n",
       "0.95    13.0         10.0           6.0            0.0\n",
       "0.99    16.0         12.0           9.0            0.0"
      ]
     },
     "execution_count": 11,
     "metadata": {},
     "output_type": "execute_result"
    }
   ],
   "source": [
    "df[df['Category']==\"AlphaNumeric\"].quantile([.9,.95,.99])"
   ]
  },
  {
   "cell_type": "markdown",
   "id": "6698352d",
   "metadata": {},
   "source": [
    "## 4.3 AlphaNumericSpecial Categorized Passwords (MOST PREFERRED)"
   ]
  },
  {
   "cell_type": "code",
   "execution_count": 12,
   "id": "5fb6135b",
   "metadata": {},
   "outputs": [
    {
     "data": {
      "text/html": [
       "<div>\n",
       "<style scoped>\n",
       "    .dataframe tbody tr th:only-of-type {\n",
       "        vertical-align: middle;\n",
       "    }\n",
       "\n",
       "    .dataframe tbody tr th {\n",
       "        vertical-align: top;\n",
       "    }\n",
       "\n",
       "    .dataframe thead th {\n",
       "        text-align: right;\n",
       "    }\n",
       "</style>\n",
       "<table border=\"1\" class=\"dataframe\">\n",
       "  <thead>\n",
       "    <tr style=\"text-align: right;\">\n",
       "      <th></th>\n",
       "      <th>Length</th>\n",
       "      <th>Alpha Count</th>\n",
       "      <th>Number Count</th>\n",
       "      <th>Special Count</th>\n",
       "    </tr>\n",
       "  </thead>\n",
       "  <tbody>\n",
       "    <tr>\n",
       "      <th>0.90</th>\n",
       "      <td>15.0</td>\n",
       "      <td>10.0</td>\n",
       "      <td>5.0</td>\n",
       "      <td>2.0</td>\n",
       "    </tr>\n",
       "    <tr>\n",
       "      <th>0.95</th>\n",
       "      <td>16.0</td>\n",
       "      <td>12.0</td>\n",
       "      <td>6.0</td>\n",
       "      <td>3.0</td>\n",
       "    </tr>\n",
       "    <tr>\n",
       "      <th>0.99</th>\n",
       "      <td>24.0</td>\n",
       "      <td>18.0</td>\n",
       "      <td>9.0</td>\n",
       "      <td>5.0</td>\n",
       "    </tr>\n",
       "  </tbody>\n",
       "</table>\n",
       "</div>"
      ],
      "text/plain": [
       "      Length  Alpha Count  Number Count  Special Count\n",
       "0.90    15.0         10.0           5.0            2.0\n",
       "0.95    16.0         12.0           6.0            3.0\n",
       "0.99    24.0         18.0           9.0            5.0"
      ]
     },
     "execution_count": 12,
     "metadata": {},
     "output_type": "execute_result"
    }
   ],
   "source": [
    "df[df['Category']==\"AlphaNumericSpecial\"].quantile([.9,.95,.99])"
   ]
  },
  {
   "cell_type": "markdown",
   "id": "e8a3624c",
   "metadata": {},
   "source": [
    "## 4.4 AlphaSpecial Categorized Passwords"
   ]
  },
  {
   "cell_type": "code",
   "execution_count": 13,
   "id": "97ec2908",
   "metadata": {},
   "outputs": [
    {
     "data": {
      "text/html": [
       "<div>\n",
       "<style scoped>\n",
       "    .dataframe tbody tr th:only-of-type {\n",
       "        vertical-align: middle;\n",
       "    }\n",
       "\n",
       "    .dataframe tbody tr th {\n",
       "        vertical-align: top;\n",
       "    }\n",
       "\n",
       "    .dataframe thead th {\n",
       "        text-align: right;\n",
       "    }\n",
       "</style>\n",
       "<table border=\"1\" class=\"dataframe\">\n",
       "  <thead>\n",
       "    <tr style=\"text-align: right;\">\n",
       "      <th></th>\n",
       "      <th>Length</th>\n",
       "      <th>Alpha Count</th>\n",
       "      <th>Number Count</th>\n",
       "      <th>Special Count</th>\n",
       "    </tr>\n",
       "  </thead>\n",
       "  <tbody>\n",
       "    <tr>\n",
       "      <th>0.90</th>\n",
       "      <td>14.0</td>\n",
       "      <td>12.0</td>\n",
       "      <td>0.0</td>\n",
       "      <td>3.0</td>\n",
       "    </tr>\n",
       "    <tr>\n",
       "      <th>0.95</th>\n",
       "      <td>16.0</td>\n",
       "      <td>15.0</td>\n",
       "      <td>0.0</td>\n",
       "      <td>3.0</td>\n",
       "    </tr>\n",
       "    <tr>\n",
       "      <th>0.99</th>\n",
       "      <td>24.0</td>\n",
       "      <td>21.0</td>\n",
       "      <td>0.0</td>\n",
       "      <td>6.0</td>\n",
       "    </tr>\n",
       "  </tbody>\n",
       "</table>\n",
       "</div>"
      ],
      "text/plain": [
       "      Length  Alpha Count  Number Count  Special Count\n",
       "0.90    14.0         12.0           0.0            3.0\n",
       "0.95    16.0         15.0           0.0            3.0\n",
       "0.99    24.0         21.0           0.0            6.0"
      ]
     },
     "execution_count": 13,
     "metadata": {},
     "output_type": "execute_result"
    }
   ],
   "source": [
    "df[df['Category']==\"AlphaSpecial\"].quantile([.9,.95,.99])"
   ]
  },
  {
   "cell_type": "markdown",
   "id": "0752509b",
   "metadata": {},
   "source": [
    "## 4.5 Numeric Categorized Passwords (LEAST PREFERRED)"
   ]
  },
  {
   "cell_type": "code",
   "execution_count": 14,
   "id": "4d1056a8",
   "metadata": {},
   "outputs": [
    {
     "data": {
      "text/html": [
       "<div>\n",
       "<style scoped>\n",
       "    .dataframe tbody tr th:only-of-type {\n",
       "        vertical-align: middle;\n",
       "    }\n",
       "\n",
       "    .dataframe tbody tr th {\n",
       "        vertical-align: top;\n",
       "    }\n",
       "\n",
       "    .dataframe thead th {\n",
       "        text-align: right;\n",
       "    }\n",
       "</style>\n",
       "<table border=\"1\" class=\"dataframe\">\n",
       "  <thead>\n",
       "    <tr style=\"text-align: right;\">\n",
       "      <th></th>\n",
       "      <th>Length</th>\n",
       "      <th>Alpha Count</th>\n",
       "      <th>Number Count</th>\n",
       "      <th>Special Count</th>\n",
       "    </tr>\n",
       "  </thead>\n",
       "  <tbody>\n",
       "    <tr>\n",
       "      <th>0.90</th>\n",
       "      <td>10.0</td>\n",
       "      <td>0.0</td>\n",
       "      <td>10.0</td>\n",
       "      <td>0.0</td>\n",
       "    </tr>\n",
       "    <tr>\n",
       "      <th>0.95</th>\n",
       "      <td>11.0</td>\n",
       "      <td>0.0</td>\n",
       "      <td>11.0</td>\n",
       "      <td>0.0</td>\n",
       "    </tr>\n",
       "    <tr>\n",
       "      <th>0.99</th>\n",
       "      <td>14.0</td>\n",
       "      <td>0.0</td>\n",
       "      <td>14.0</td>\n",
       "      <td>0.0</td>\n",
       "    </tr>\n",
       "  </tbody>\n",
       "</table>\n",
       "</div>"
      ],
      "text/plain": [
       "      Length  Alpha Count  Number Count  Special Count\n",
       "0.90    10.0          0.0          10.0            0.0\n",
       "0.95    11.0          0.0          11.0            0.0\n",
       "0.99    14.0          0.0          14.0            0.0"
      ]
     },
     "execution_count": 14,
     "metadata": {},
     "output_type": "execute_result"
    }
   ],
   "source": [
    "df[df['Category']==\"Numeric\"].quantile([.9,.95,.99])"
   ]
  },
  {
   "cell_type": "markdown",
   "id": "428dc918",
   "metadata": {},
   "source": [
    "## 4.6 Numeric Categorized Passwords"
   ]
  },
  {
   "cell_type": "code",
   "execution_count": 15,
   "id": "ee9d2493",
   "metadata": {},
   "outputs": [
    {
     "data": {
      "text/html": [
       "<div>\n",
       "<style scoped>\n",
       "    .dataframe tbody tr th:only-of-type {\n",
       "        vertical-align: middle;\n",
       "    }\n",
       "\n",
       "    .dataframe tbody tr th {\n",
       "        vertical-align: top;\n",
       "    }\n",
       "\n",
       "    .dataframe thead th {\n",
       "        text-align: right;\n",
       "    }\n",
       "</style>\n",
       "<table border=\"1\" class=\"dataframe\">\n",
       "  <thead>\n",
       "    <tr style=\"text-align: right;\">\n",
       "      <th></th>\n",
       "      <th>Length</th>\n",
       "      <th>Alpha Count</th>\n",
       "      <th>Number Count</th>\n",
       "      <th>Special Count</th>\n",
       "    </tr>\n",
       "  </thead>\n",
       "  <tbody>\n",
       "    <tr>\n",
       "      <th>0.90</th>\n",
       "      <td>12.0</td>\n",
       "      <td>0.0</td>\n",
       "      <td>10.0</td>\n",
       "      <td>3.0</td>\n",
       "    </tr>\n",
       "    <tr>\n",
       "      <th>0.95</th>\n",
       "      <td>14.0</td>\n",
       "      <td>0.0</td>\n",
       "      <td>12.0</td>\n",
       "      <td>4.0</td>\n",
       "    </tr>\n",
       "    <tr>\n",
       "      <th>0.99</th>\n",
       "      <td>17.0</td>\n",
       "      <td>0.0</td>\n",
       "      <td>15.0</td>\n",
       "      <td>8.0</td>\n",
       "    </tr>\n",
       "  </tbody>\n",
       "</table>\n",
       "</div>"
      ],
      "text/plain": [
       "      Length  Alpha Count  Number Count  Special Count\n",
       "0.90    12.0          0.0          10.0            3.0\n",
       "0.95    14.0          0.0          12.0            4.0\n",
       "0.99    17.0          0.0          15.0            8.0"
      ]
     },
     "execution_count": 15,
     "metadata": {},
     "output_type": "execute_result"
    }
   ],
   "source": [
    "df[df['Category']==\"NumericSpecial\"].quantile([.9,.95,.99])"
   ]
  },
  {
   "cell_type": "markdown",
   "id": "952e4cbf",
   "metadata": {},
   "source": [
    "## 4.7 Alpha Categorized Passwords"
   ]
  },
  {
   "cell_type": "code",
   "execution_count": 16,
   "id": "97ca57eb",
   "metadata": {},
   "outputs": [
    {
     "data": {
      "text/html": [
       "<div>\n",
       "<style scoped>\n",
       "    .dataframe tbody tr th:only-of-type {\n",
       "        vertical-align: middle;\n",
       "    }\n",
       "\n",
       "    .dataframe tbody tr th {\n",
       "        vertical-align: top;\n",
       "    }\n",
       "\n",
       "    .dataframe thead th {\n",
       "        text-align: right;\n",
       "    }\n",
       "</style>\n",
       "<table border=\"1\" class=\"dataframe\">\n",
       "  <thead>\n",
       "    <tr style=\"text-align: right;\">\n",
       "      <th></th>\n",
       "      <th>Length</th>\n",
       "      <th>Alpha Count</th>\n",
       "      <th>Number Count</th>\n",
       "      <th>Special Count</th>\n",
       "    </tr>\n",
       "  </thead>\n",
       "  <tbody>\n",
       "    <tr>\n",
       "      <th>0.90</th>\n",
       "      <td>12.0</td>\n",
       "      <td>0.0</td>\n",
       "      <td>0.0</td>\n",
       "      <td>12.0</td>\n",
       "    </tr>\n",
       "    <tr>\n",
       "      <th>0.95</th>\n",
       "      <td>14.0</td>\n",
       "      <td>0.0</td>\n",
       "      <td>0.0</td>\n",
       "      <td>14.0</td>\n",
       "    </tr>\n",
       "    <tr>\n",
       "      <th>0.99</th>\n",
       "      <td>26.0</td>\n",
       "      <td>0.0</td>\n",
       "      <td>0.0</td>\n",
       "      <td>26.0</td>\n",
       "    </tr>\n",
       "  </tbody>\n",
       "</table>\n",
       "</div>"
      ],
      "text/plain": [
       "      Length  Alpha Count  Number Count  Special Count\n",
       "0.90    12.0          0.0           0.0           12.0\n",
       "0.95    14.0          0.0           0.0           14.0\n",
       "0.99    26.0          0.0           0.0           26.0"
      ]
     },
     "execution_count": 16,
     "metadata": {},
     "output_type": "execute_result"
    }
   ],
   "source": [
    "df[df['Category']==\"Special\"].quantile([.9,.95,.99])"
   ]
  },
  {
   "cell_type": "code",
   "execution_count": null,
   "id": "a5b46b44",
   "metadata": {},
   "outputs": [],
   "source": []
  }
 ],
 "metadata": {
  "kernelspec": {
   "display_name": "Python 3 (ipykernel)",
   "language": "python",
   "name": "python3"
  },
  "language_info": {
   "codemirror_mode": {
    "name": "ipython",
    "version": 3
   },
   "file_extension": ".py",
   "mimetype": "text/x-python",
   "name": "python",
   "nbconvert_exporter": "python",
   "pygments_lexer": "ipython3",
   "version": "3.9.12"
  }
 },
 "nbformat": 4,
 "nbformat_minor": 5
}
