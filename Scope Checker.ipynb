{
 "cells": [
  {
   "cell_type": "markdown",
   "id": "c20e4ebc",
   "metadata": {},
   "source": [
    "Prior to running this notebook, change the following values:"
   ]
  },
  {
   "cell_type": "code",
   "execution_count": null,
   "id": "7469e57e",
   "metadata": {},
   "outputs": [],
   "source": [
    "# Location of the file containing the scope. Format should be IP or CIDR, each on a new line.\n",
    "ipaddresses_file = \"./scope.txt\"\n",
    "\n",
    "# IPInfo.io Access Token (If you don't have one, check out https://ipinfo.io/signup )\n",
    "ipinfo_access_token = \"\""
   ]
  },
  {
   "cell_type": "markdown",
   "id": "42a16164",
   "metadata": {},
   "source": [
    "The bulk of the information gathering is done below, and will result in a table of IP address with information. Further below, a geographical map is provided as well."
   ]
  },
  {
   "cell_type": "code",
   "execution_count": null,
   "id": "00f4ce00",
   "metadata": {
    "scrolled": false
   },
   "outputs": [],
   "source": [
    "import ipaddress\n",
    "\n",
    "ips_raw=[]\n",
    "ips_info=[]\n",
    "\n",
    "# Read in the ipaddresses file, storing the contents so we can close it soonest\n",
    "with open(ipaddresses_file,'r') as f:\n",
    "    ips_raw = f.read().splitlines()\n",
    "\n",
    "# Get the general IP information, and split CIDRs\n",
    "for ip in ips_raw:\n",
    "    try:\n",
    "        # Treat each entry as a \"network\"; those without CIDR will still work as a single IP\n",
    "        ip_network = ipaddress.ip_network(ip)\n",
    "\n",
    "        for host in ip_network.hosts():\n",
    "            ip_temp={}\n",
    "            try:\n",
    "                ip_temp[\"address\"] = format(host)\n",
    "                ip_temp[\"address-details\"] = []\n",
    "                ip_temp[\"is-global\"] = False\n",
    "\n",
    "                if host.is_global:\n",
    "                    ip_temp[\"address-details\"].append(\"Global IP\")\n",
    "                    ip_temp[\"is-global\"] = True\n",
    "                if host.is_private:\n",
    "                    ip_temp[\"address-details\"].append(\"Private IP\")\n",
    "                if host.is_reserved:\n",
    "                    ip_temp[\"address-details\"].append(\"Reserved IP\")\n",
    "                if host.is_unspecified:\n",
    "                    ip_temp[\"address-details\"].append(\"Unspecified IP\")\n",
    "                if host.is_link_local:\n",
    "                    ip_temp[\"address-details\"].append(\"Link-Local IP\")\n",
    "                if host.is_loopback:\n",
    "                    ip_temp[\"address-details\"].append(\"Loopback IP\")\n",
    "\n",
    "                # Add it to the rest\n",
    "                ips_info.append(ip_temp)\n",
    "            except:\n",
    "                pass\n",
    "    except:\n",
    "        pass\n",
    "\n",
    "# Get the IPInfo.io information for Global IPs\n",
    "import ipinfo\n",
    "\n",
    "ipinfo_handler = ipinfo.getHandler(ipinfo_access_token)\n",
    "\n",
    "for ip in ips_info:\n",
    "    if not ip_temp[\"is-global\"]:\n",
    "        continue\n",
    "\n",
    "    ipinfo_details = ipinfo_handler.getDetails(ip[\"address\"])\n",
    "\n",
    "    ip[\"hostname\"] = ipinfo_details.all.get(\"hostname\",\"(?)\")\n",
    "    ip[\"organization\"] = ipinfo_details.all.get(\"org\",\"(?)\")\n",
    "    ip[\"location\"] = f\"{ipinfo_details.city}, {ipinfo_details.region} {ipinfo_details.country}\"\n",
    "    ip[\"latitude\"] = ipinfo_details.latitude\n",
    "    ip[\"longitude\"] = ipinfo_details.longitude"
   ]
  },
  {
   "cell_type": "code",
   "execution_count": null,
   "id": "80e8cfc7",
   "metadata": {
    "require": [
     "base/js/events",
     "datatables.net",
     "d3",
     "chartjs",
     "dt-config",
     "dt-components",
     "dt-graph-objects",
     "dt-toolbar",
     "dt-tooltips",
     "jupyter-datatables"
    ],
    "scrolled": false
   },
   "outputs": [],
   "source": [
    "# Print the IP data in a table\n",
    "import pandas as pd\n",
    "\n",
    "tbl = pd.DataFrame({\n",
    "    'IP': [x[\"address\"] for x in ips_info],\n",
    "    'Details': [\", \".join([y for y in x[\"address-details\"]]) for x in ips_info],\n",
    "    'Organization': [x[\"organization\"] for x in ips_info],\n",
    "    'Location': [x[\"location\"] for x in ips_info],\n",
    "    'Hostname': [x[\"hostname\"] for x in ips_info]\n",
    "})\n",
    "\n",
    "print(f\"Information for {len(ips_info)} IP address:\")\n",
    "\n",
    "pd.set_option('display.max_rows', None)\n",
    "tbl"
   ]
  },
  {
   "cell_type": "code",
   "execution_count": null,
   "id": "d4109fb1",
   "metadata": {
    "require": [
     "base/js/events",
     "datatables.net",
     "d3",
     "chartjs",
     "dt-config",
     "dt-components",
     "dt-graph-objects",
     "dt-toolbar",
     "dt-tooltips",
     "jupyter-datatables"
    ]
   },
   "outputs": [],
   "source": [
    "# Plot the IP geolocation on a map\n",
    "from ipyleaflet import Map, Marker\n",
    "\n",
    "ip_map = Map()\n",
    "locations = {}\n",
    "\n",
    "# Bounds\n",
    "lat_highest = -180.0\n",
    "lat_lowest  = 180.0\n",
    "lon_highest = -180.0\n",
    "lon_lowest  = 180.0\n",
    "\n",
    "for ip in ips_info:\n",
    "    try:\n",
    "        lat = float(ip[\"latitude\"])\n",
    "        lon = float(ip[\"longitude\"])\n",
    "        \n",
    "        if lat > lat_highest:\n",
    "            lat_highest=lat\n",
    "        elif lat < lat_lowest:\n",
    "            lat_lowest=lat\n",
    "            \n",
    "        if lon > lon_highest:\n",
    "            lon_highest=lon\n",
    "        elif lon < lon_lowest:\n",
    "            lon_lowest=lon\n",
    "            \n",
    "        locations[f\"{lat},{lon}\"] = locations.get(f\"{lat},{lon}\",[lat,lon,0])\n",
    "        locations[f\"{lat},{lon}\"][2] += 1\n",
    "        \n",
    "        ip_map.add_layer(Marker(title=ip[\"address\"],location=(lat,lon)))\n",
    "    except:\n",
    "        pass\n",
    "\n",
    "ip_map.fit_bounds([[lat_lowest,lon_lowest],[lat_highest,lon_highest]])\n",
    "display(ip_map)"
   ]
  }
 ],
 "metadata": {
  "kernelspec": {
   "display_name": "Python 3 (ipykernel)",
   "language": "python",
   "name": "python3"
  },
  "language_info": {
   "codemirror_mode": {
    "name": "ipython",
    "version": 3
   },
   "file_extension": ".py",
   "mimetype": "text/x-python",
   "name": "python",
   "nbconvert_exporter": "python",
   "pygments_lexer": "ipython3",
   "version": "3.9.7"
  },
  "require": {
   "paths": {
    "buttons.colvis": "https://cdn.datatables.net/buttons/1.5.6/js/buttons.colVis.min",
    "buttons.flash": "https://cdn.datatables.net/buttons/1.5.6/js/buttons.flash.min",
    "buttons.html5": "https://cdn.datatables.net/buttons/1.5.6/js/buttons.html5.min",
    "buttons.print": "https://cdn.datatables.net/buttons/1.5.6/js/buttons.print.min",
    "chartjs": "https://cdnjs.cloudflare.com/ajax/libs/Chart.js/2.8.0/Chart",
    "d3": "https://d3js.org/d3.v5.min",
    "d3-array": "https://d3js.org/d3-array.v2.min",
    "datatables.net": "https://cdn.datatables.net/1.10.18/js/jquery.dataTables",
    "datatables.net-buttons": "https://cdn.datatables.net/buttons/1.5.6/js/dataTables.buttons.min",
    "datatables.responsive": "https://cdn.datatables.net/responsive/2.2.2/js/dataTables.responsive.min",
    "datatables.scroller": "https://cdn.datatables.net/scroller/2.0.0/js/dataTables.scroller.min",
    "datatables.select": "https://cdn.datatables.net/select/1.3.0/js/dataTables.select.min",
    "jszip": "https://cdnjs.cloudflare.com/ajax/libs/jszip/2.5.0/jszip.min",
    "moment": "https://cdnjs.cloudflare.com/ajax/libs/moment.js/2.8.0/moment",
    "pdfmake": "https://cdnjs.cloudflare.com/ajax/libs/pdfmake/0.1.36/pdfmake.min",
    "vfsfonts": "https://cdnjs.cloudflare.com/ajax/libs/pdfmake/0.1.36/vfs_fonts"
   },
   "shim": {
    "buttons.colvis": {
     "deps": [
      "jszip",
      "datatables.net-buttons"
     ]
    },
    "buttons.flash": {
     "deps": [
      "jszip",
      "datatables.net-buttons"
     ]
    },
    "buttons.html5": {
     "deps": [
      "jszip",
      "datatables.net-buttons"
     ]
    },
    "buttons.print": {
     "deps": [
      "jszip",
      "datatables.net-buttons"
     ]
    },
    "chartjs": {
     "deps": [
      "moment"
     ]
    },
    "datatables.net": {
     "exports": "$.fn.dataTable"
    },
    "datatables.net-buttons": {
     "deps": [
      "datatables.net"
     ]
    },
    "pdfmake": {
     "deps": [
      "datatables.net"
     ]
    },
    "vfsfonts": {
     "deps": [
      "datatables.net"
     ]
    }
   }
  }
 },
 "nbformat": 4,
 "nbformat_minor": 5
}
